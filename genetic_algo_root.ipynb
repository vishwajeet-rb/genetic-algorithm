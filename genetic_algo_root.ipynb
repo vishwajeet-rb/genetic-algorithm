{
 "cells": [
  {
   "cell_type": "code",
   "execution_count": 33,
   "metadata": {
    "collapsed": true
   },
   "outputs": [],
   "source": [
    "import numpy as np\n",
    "from bitstring import BitArray\n",
    "from random import randint\n",
    "import random"
   ]
  },
  {
   "cell_type": "code",
   "execution_count": 76,
   "metadata": {
    "collapsed": true
   },
   "outputs": [],
   "source": [
    "def generate_population(genes_num,pop_size):\n",
    "    pop=[]\n",
    "    randBinList = lambda n: [randint(0,1) for b in range(1,n+1)]\n",
    "    for i in range(0,pop_size):\n",
    "        pop.append(randBinList(genes_num))\n",
    "    return pop"
   ]
  },
  {
   "cell_type": "code",
   "execution_count": 7,
   "metadata": {
    "collapsed": true
   },
   "outputs": [],
   "source": [
    "def obj_func(x):\n",
    "    y=x**2\n",
    "    return y"
   ]
  },
  {
   "cell_type": "code",
   "execution_count": 91,
   "metadata": {},
   "outputs": [],
   "source": [
    "def bin2real_map(xL,xU,a):\n",
    "        decimal=BitArray(a).uint\n",
    "        return (xL + ((xU - xL)/(2**len(a) - 1.0))* decimal)\n",
    "\n",
    "def selection(a,b):\n",
    "        x1 = bin2real_map(0,10,a)\n",
    "        x2 = bin2real_map(0,10,b)\n",
    "        f1 = obj_func(x1)\n",
    "        f2 = obj_func(x2)\n",
    "        return a if f1<f2 else b"
   ]
  },
  {
   "cell_type": "code",
   "execution_count": 141,
   "metadata": {
    "collapsed": true
   },
   "outputs": [],
   "source": [
    "def crossover(ch1, ch2,genes_no):\n",
    "    r = random.randint(0,genes_no)\n",
    "    return ch1[:r]+ch2[r:], ch2[:r]+ch1[r:]"
   ]
  },
  {
   "cell_type": "code",
   "execution_count": 112,
   "metadata": {},
   "outputs": [],
   "source": [
    "def mutation(ch):\n",
    "    mutatedCh = []\n",
    "    for i in ch:\n",
    "        if random.random() > 0.95:\n",
    "            if i == 1:\n",
    "                mutatedCh.append(0)\n",
    "            else:\n",
    "                mutatedCh.append(1)\n",
    "        else:\n",
    "            mutatedCh.append(i)\n",
    "    return mutatedCh"
   ]
  },
  {
   "cell_type": "code",
   "execution_count": null,
   "metadata": {
    "collapsed": true
   },
   "outputs": [],
   "source": [
    "def genetic_algo(population,genes_num,N)"
   ]
  },
  {
   "cell_type": "code",
   "execution_count": 100,
   "metadata": {},
   "outputs": [],
   "source": [
    "sel_arr=[]\n",
    "while (len(sel_arr)<len(population)):\n",
    "    u=np.random.randint(0,genes_num)\n",
    "    v=np.random.randint(0,genes_num)\n",
    "    sel_arr.append(selection(population[u],population[v]))"
   ]
  },
  {
   "cell_type": "code",
   "execution_count": 142,
   "metadata": {},
   "outputs": [],
   "source": [
    "cross_arr=[]\n",
    "while (len(cross_arr)<len(population)):\n",
    "    crossover_prob= 0.85\n",
    "    u=np.random.randint(0,genes_num)\n",
    "    v=np.random.randint(0,genes_num)\n",
    "    if (np.random.uniform(0,1)<crossover_prob):\n",
    "        child1,child2=crossover(sel_arr[u],sel_arr[v],genes_num)\n",
    "        cross_arr.append(child1)\n",
    "        cross_arr.append(child2)"
   ]
  },
  {
   "cell_type": "code",
   "execution_count": 125,
   "metadata": {
    "collapsed": true
   },
   "outputs": [],
   "source": [
    "mutate_arr=[]\n",
    "while (len(mutate_arr)<len(population)):\n",
    "    m=mutation(cross_arr)\n",
    "    mutate_arr.append(m)"
   ]
  },
  {
   "cell_type": "code",
   "execution_count": 139,
   "metadata": {},
   "outputs": [],
   "source": [
    "fitness_max=0\n",
    "fit=[]\n",
    "fitness_value=[]\n",
    "for i in range(len(mutate_arr)):\n",
    "    fit_value=bin2real_map(0,10,mutate_arr[i])\n",
    "    fitness_value.append(fit_value)\n",
    "    fitness_new=obj_func(fit_value)\n",
    "    fit.append(fitness_new)\n",
    "max_fitness=max(fit)\n",
    "if (fitness_max<max_fitness):\n",
    "    fitness_max=max_fitness\n",
    "for i in range(len(mutate_arr)):\n",
    "    if (fitness_max==fit[i]):\n",
    "        fitness_maxvalue = fitness_value[i]\n"
   ]
  },
  {
   "cell_type": "code",
   "execution_count": 140,
   "metadata": {
    "collapsed": true
   },
   "outputs": [],
   "source": [
    "sel_arr.append(sel_arr)\n",
    "cross_arr.append(cross_arr)\n",
    "mutate_arr.append(mutate_arr)"
   ]
  },
  {
   "cell_type": "code",
   "execution_count": 84,
   "metadata": {},
   "outputs": [],
   "source": [
    "genes_num=10\n",
    "generation_size=15\n",
    "N=100000 # Iterations\n",
    "population=generate_population(genes_num,generation_size)"
   ]
  },
  {
   "cell_type": "code",
   "execution_count": null,
   "metadata": {
    "collapsed": true
   },
   "outputs": [],
   "source": []
  }
 ],
 "metadata": {
  "kernelspec": {
   "display_name": "Python 2",
   "language": "python",
   "name": "python2"
  },
  "language_info": {
   "codemirror_mode": {
    "name": "ipython",
    "version": 2
   },
   "file_extension": ".py",
   "mimetype": "text/x-python",
   "name": "python",
   "nbconvert_exporter": "python",
   "pygments_lexer": "ipython2",
   "version": "2.7.12"
  }
 },
 "nbformat": 4,
 "nbformat_minor": 2
}
